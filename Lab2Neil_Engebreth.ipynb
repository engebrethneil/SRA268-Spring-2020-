{
  "nbformat": 4,
  "nbformat_minor": 0,
  "metadata": {
    "colab": {
      "name": "Lab2Neil Engebreth",
      "provenance": [],
      "collapsed_sections": [],
      "include_colab_link": true
    },
    "kernelspec": {
      "name": "python3",
      "display_name": "Python 3"
    }
  },
  "cells": [
    {
      "cell_type": "markdown",
      "metadata": {
        "id": "view-in-github",
        "colab_type": "text"
      },
      "source": [
        "<a href=\"https://colab.research.google.com/github/engebrethneil/SRA268-Spring-2020-/blob/master/Lab2Neil_Engebreth.ipynb\" target=\"_parent\"><img src=\"https://colab.research.google.com/assets/colab-badge.svg\" alt=\"Open In Colab\"/></a>"
      ]
    },
    {
      "cell_type": "markdown",
      "metadata": {
        "id": "6sOc4Uyr4U-Z",
        "colab_type": "text"
      },
      "source": [
        "## Graph Types"
      ]
    },
    {
      "cell_type": "markdown",
      "metadata": {
        "id": "0zZdVLAd5CYr",
        "colab_type": "text"
      },
      "source": [
        "Creator\n",
        "* Neil Engebreth"
      ]
    },
    {
      "cell_type": "markdown",
      "metadata": {
        "id": "g-r6Clq45Hn4",
        "colab_type": "text"
      },
      "source": [
        "### Deviation\n"
      ]
    },
    {
      "cell_type": "markdown",
      "metadata": {
        "id": "3s5wB2ua-N12",
        "colab_type": "text"
      },
      "source": [
        "![alt text](https://raw.githubusercontent.com/engebrethneil/SRA268-Spring-2020-/master/Screen%20Shot%202020-02-20%20at%201.34.44%20PM.png)"
      ]
    },
    {
      "cell_type": "markdown",
      "metadata": {
        "id": "w6bZ_NEi7E3w",
        "colab_type": "text"
      },
      "source": [
        "#### What is this telling us?"
      ]
    },
    {
      "cell_type": "markdown",
      "metadata": {
        "id": "95L-spaC7QHF",
        "colab_type": "text"
      },
      "source": [
        "The following graph is linked with deviation. This is linked with deviation showing the various tendencies shown in the graph with sum points and the season. Since deviation is based on variation from a fixed point I chose to have my fixed point on the average. This would show on the graph as I chose to fix the colors. As shown the light blue is below the average, while the dark blue is above the average. This help shows the various tendencies between the points and seasons.Thus giving this data more meaning to tell whether it was a winning points per season were higher or lower than the last year. "
      ]
    },
    {
      "cell_type": "markdown",
      "metadata": {
        "id": "YgXyXjmz7cDP",
        "colab_type": "text"
      },
      "source": [
        "### Correlation\n"
      ]
    },
    {
      "cell_type": "markdown",
      "metadata": {
        "id": "PwIakWkZ_3MH",
        "colab_type": "text"
      },
      "source": [
        "![alt text](https://raw.githubusercontent.com/engebrethneil/SRA268-Spring-2020-/master/Screen%20Shot%202020-02-20%20at%201.35.41%20PM.png)"
      ]
    },
    {
      "cell_type": "markdown",
      "metadata": {
        "id": "dljjONNi7jmj",
        "colab_type": "text"
      },
      "source": [
        "#### What is this telling us?"
      ]
    },
    {
      "cell_type": "markdown",
      "metadata": {
        "id": "PwZEZrFB7laG",
        "colab_type": "text"
      },
      "source": [
        "The following graph is linked with correlation. This is linked with correlation showing the various tendencies shown in the graph. Since correlation is based on showing two relationships between two or more points,This would show on the graph as I chose to fix the colors and various points. As shown the dark blue is the lose points and the green is the win points.This help shows the various tendencies between the win and lose points and season. Showing that the win and lose points are shown as the various amounts of lose points are significantly less than win points."
      ]
    },
    {
      "cell_type": "markdown",
      "metadata": {
        "id": "MqUdI-uL7r2s",
        "colab_type": "text"
      },
      "source": [
        "### Ranking\n"
      ]
    },
    {
      "cell_type": "markdown",
      "metadata": {
        "id": "Mk-neccc__eP",
        "colab_type": "text"
      },
      "source": [
        "![alt text](https://raw.githubusercontent.com/engebrethneil/SRA268-Spring-2020-/master/Screen%20Shot%202020-02-20%20at%201.36.06%20PM.png)"
      ]
    },
    {
      "cell_type": "markdown",
      "metadata": {
        "id": "lCAYtfza7yTq",
        "colab_type": "text"
      },
      "source": [
        "#### What is this telling us?"
      ]
    },
    {
      "cell_type": "markdown",
      "metadata": {
        "id": "MyuciD277ygU",
        "colab_type": "text"
      },
      "source": [
        "The following graph is linked with ranking. This is linked with ranking showing the various tendencies shown in the graph. Since ranking is based on highlighting the position of the date relative to one another. This would show on the graph as I chose to fix the ranking of the points from lowest to highest. As shown, the points went from the lowest amount to the highest amount. This help shows the various tendencies between showing the amount of win points throughout this time period. Showing that the win points have varied in the following time frame and the ranking system seems effective."
      ]
    },
    {
      "cell_type": "markdown",
      "metadata": {
        "id": "dGDGl8-G7y8Y",
        "colab_type": "text"
      },
      "source": [
        "### Distribution\n"
      ]
    },
    {
      "cell_type": "markdown",
      "metadata": {
        "id": "HtLMcBLQAfpL",
        "colab_type": "text"
      },
      "source": [
        "![alt text](https://raw.githubusercontent.com/engebrethneil/SRA268-Spring-2020-/master/Screen%20Shot%202020-02-20%20at%201.36.32%20PM.png)"
      ]
    },
    {
      "cell_type": "markdown",
      "metadata": {
        "id": "_6SOzhrQ76zH",
        "colab_type": "text"
      },
      "source": [
        "#### What is this telling us?"
      ]
    },
    {
      "cell_type": "markdown",
      "metadata": {
        "id": "HBWqsS_g767h",
        "colab_type": "text"
      },
      "source": [
        "The following graph is linked with distribution. This is linked with distribution showing the various tendencies shown in the graph. Since distribution is based on values of the dataset and (sometimes) how often they occur (“Skew” shapeness can help in highlighting patterns). This would show on the graph as I chose to fix the win points in a histogram. As shown, the histogram shows the win points in various ways. This help shows the various tendencies between showing the amount of win points throughout this time period occur often.  Showing that the amount of win points are shown and patterns are shown."
      ]
    },
    {
      "cell_type": "markdown",
      "metadata": {
        "id": "wQsDThk677Fy",
        "colab_type": "text"
      },
      "source": [
        "### Change over Time\n"
      ]
    },
    {
      "cell_type": "markdown",
      "metadata": {
        "id": "fTO7d5FnAr5j",
        "colab_type": "text"
      },
      "source": [
        "![alt text](https://raw.githubusercontent.com/engebrethneil/SRA268-Spring-2020-/master/Screen%20Shot%202020-02-20%20at%201.36.59%20PM.png)"
      ]
    },
    {
      "cell_type": "markdown",
      "metadata": {
        "id": "mpfsmmgi7_Vj",
        "colab_type": "text"
      },
      "source": [
        "#### What is this telling us?"
      ]
    },
    {
      "cell_type": "markdown",
      "metadata": {
        "id": "rYLXoMMO7_di",
        "colab_type": "text"
      },
      "source": [
        "The following graph is linked with Change Over Time. his is linked with Change over Time showing the various tendencies shown in the graph. Since Change over time is based on showing trends in data I chose to make a line graph to show the change over time. This would show on the graph as I chose to fix the points on the line graph overtime with the color changing based on tendencies. From the yellowing getting lighter as the win points are lower and get darker as the points get higher. The change over time graph is shown across the various years."
      ]
    },
    {
      "cell_type": "markdown",
      "metadata": {
        "id": "lFwiHoE-7_jZ",
        "colab_type": "text"
      },
      "source": [
        "### Magnitude\n"
      ]
    },
    {
      "cell_type": "markdown",
      "metadata": {
        "id": "Jzr2xZW6AxKE",
        "colab_type": "text"
      },
      "source": [
        "![alt text](https://raw.githubusercontent.com/engebrethneil/SRA268-Spring-2020-/master/Screen%20Shot%202020-02-20%20at%201.37.20%20PM.png)"
      ]
    },
    {
      "cell_type": "markdown",
      "metadata": {
        "id": "QGG7XYG88Eii",
        "colab_type": "text"
      },
      "source": [
        "#### What is this telling us?"
      ]
    },
    {
      "cell_type": "markdown",
      "metadata": {
        "id": "VS7uGa0l8Eos",
        "colab_type": "text"
      },
      "source": [
        "The following graph is linked with Magnitude. This is linked with Magnitude showing the various tendencies shown in the graph. Since Magnitude is based on showing comparisons of the data, data is usually “binned” this is shown by the bar graph above. This would show on the graph as I chose to graph overtime showing the win points from 1984 to 2016. This graph could help show tendencies over time and show amongst the various years. Showing the various fluctuation in the win points per year.Overall this graph shows the various tendencies and can be helpful for anyone who wants to learn about the winning points per season."
      ]
    },
    {
      "cell_type": "markdown",
      "metadata": {
        "id": "bEKFxP8R8Evk",
        "colab_type": "text"
      },
      "source": [
        "### Part-to-Whole\n"
      ]
    },
    {
      "cell_type": "markdown",
      "metadata": {
        "id": "WafrNRGqBD-8",
        "colab_type": "text"
      },
      "source": [
        "![alt text](https://raw.githubusercontent.com/engebrethneil/SRA268-Spring-2020-/master/Screen%20Shot%202020-02-20%20at%201.37.50%20PM.png)"
      ]
    },
    {
      "cell_type": "markdown",
      "metadata": {
        "id": "PNSd3wlp8UZH",
        "colab_type": "text"
      },
      "source": [
        "#### What is this telling us?"
      ]
    },
    {
      "cell_type": "markdown",
      "metadata": {
        "id": "y9tb_QRA8aqt",
        "colab_type": "text"
      },
      "source": [
        "The following graph is linked with Part to Whole. This is linked with Part to Whole showing the various tendencies shown in the graph. Since Part to Whole is based on Showing Individual entities in the data, as relates to all other single entities. I decideded to make a pie chart to show Part to Whole.This would show on the graph as I chose to graph the win points per day.  This graph could help show tendencies over each day and show how the points varied over each day. This graph would be helpful for anyone looking for this type of data.   "
      ]
    }
  ]
}